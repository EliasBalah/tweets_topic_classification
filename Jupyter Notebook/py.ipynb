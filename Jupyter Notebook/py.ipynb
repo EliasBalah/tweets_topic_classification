{
 "cells": [
  {
   "cell_type": "markdown",
   "metadata": {},
   "source": [
    "# Tweets Classification"
   ]
  },
  {
   "cell_type": "markdown",
   "metadata": {},
   "source": [
    "## Importing libraries"
   ]
  },
  {
   "cell_type": "code",
   "execution_count": 1,
   "metadata": {},
   "outputs": [],
   "source": [
    "import pandas as pd\n",
    "import numpy as np\n",
    "import matplotlib.pyplot as plt\n",
    "import seaborn as sns; sns.set(style=\"darkgrid\");sns.set(rc={'figure.figsize':(14,8)})\n",
    "import re\n",
    "import nltk\n",
    "# Scikit-learn modules\n",
    "from sklearn.feature_extraction.text import CountVectorizer\n",
    "from sklearn.discriminant_analysis import LinearDiscriminantAnalysis\n",
    "from sklearn.model_selection import train_test_split, cross_val_predict, LeaveOneOut\n",
    "from sklearn.metrics import accuracy_score"
   ]
  },
  {
   "cell_type": "markdown",
   "metadata": {},
   "source": [
    "## Some usefull function"
   ]
  },
  {
   "cell_type": "code",
   "execution_count": 2,
   "metadata": {},
   "outputs": [],
   "source": [
    "import time\n",
    "import big_o\n",
    "\n",
    "def get_execution_time(func):\n",
    "    start_time = time.time()\n",
    "    func()\n",
    "    end_time = time.time()\n",
    "    return end_time - start_time\n",
    "\n",
    "def get_big_o(func, test_data=None, n_repeats=1):\n",
    "    data_generator = lambda _: test_data\n",
    "    best, others = big_o.big_o(func, data_generator, n_repeats=n_repeats)\n",
    "    print(f\"Best: {best}\")\n",
    "    print()\n",
    "    for class_, residuals in others.items():\n",
    "        print(\"Class:\", type(class_))\n",
    "        print('{!s:<60s}    (res: {:.2G})'.format(class_, residuals))\n",
    "    return best, others"
   ]
  },
  {
   "cell_type": "markdown",
   "metadata": {},
   "source": [
    "## Load data"
   ]
  },
  {
   "cell_type": "code",
   "execution_count": 4,
   "metadata": {},
   "outputs": [],
   "source": [
    "ORIGINAL_TRAINING_DATA = pd.read_csv('../data/original_train.csv')\n",
    "ORIGINAL_TESTING_DATA = pd.read_csv('../data/original_test.csv')"
   ]
  },
  {
   "cell_type": "markdown",
   "metadata": {},
   "source": [
    "- #### Training data"
   ]
  },
  {
   "cell_type": "code",
   "execution_count": 5,
   "metadata": {},
   "outputs": [
    {
     "data": {
      "text/html": [
       "<div>\n",
       "<style scoped>\n",
       "    .dataframe tbody tr th:only-of-type {\n",
       "        vertical-align: middle;\n",
       "    }\n",
       "\n",
       "    .dataframe tbody tr th {\n",
       "        vertical-align: top;\n",
       "    }\n",
       "\n",
       "    .dataframe thead th {\n",
       "        text-align: right;\n",
       "    }\n",
       "</style>\n",
       "<table border=\"1\" class=\"dataframe\">\n",
       "  <thead>\n",
       "    <tr style=\"text-align: right;\">\n",
       "      <th></th>\n",
       "      <th>TweetId</th>\n",
       "      <th>Label</th>\n",
       "      <th>TweetText</th>\n",
       "    </tr>\n",
       "  </thead>\n",
       "  <tbody>\n",
       "    <tr>\n",
       "      <td>0</td>\n",
       "      <td>304271250237304833</td>\n",
       "      <td>Politics</td>\n",
       "      <td>'#SecKerry: The value of the @StateDept and @U...</td>\n",
       "    </tr>\n",
       "    <tr>\n",
       "      <td>1</td>\n",
       "      <td>304834304222064640</td>\n",
       "      <td>Politics</td>\n",
       "      <td>'@rraina1481 I fear so'</td>\n",
       "    </tr>\n",
       "    <tr>\n",
       "      <td>2</td>\n",
       "      <td>303568995880144898</td>\n",
       "      <td>Sports</td>\n",
       "      <td>'Watch video highlights of the #wwc13 final be...</td>\n",
       "    </tr>\n",
       "    <tr>\n",
       "      <td>3</td>\n",
       "      <td>304366580664528896</td>\n",
       "      <td>Sports</td>\n",
       "      <td>'RT @chelscanlan: At Nitro Circus at #AlbertPa...</td>\n",
       "    </tr>\n",
       "    <tr>\n",
       "      <td>4</td>\n",
       "      <td>296770931098009601</td>\n",
       "      <td>Sports</td>\n",
       "      <td>'@cricketfox Always a good thing. Thanks for t...</td>\n",
       "    </tr>\n",
       "  </tbody>\n",
       "</table>\n",
       "</div>"
      ],
      "text/plain": [
       "              TweetId     Label  \\\n",
       "0  304271250237304833  Politics   \n",
       "1  304834304222064640  Politics   \n",
       "2  303568995880144898    Sports   \n",
       "3  304366580664528896    Sports   \n",
       "4  296770931098009601    Sports   \n",
       "\n",
       "                                           TweetText  \n",
       "0  '#SecKerry: The value of the @StateDept and @U...  \n",
       "1                            '@rraina1481 I fear so'  \n",
       "2  'Watch video highlights of the #wwc13 final be...  \n",
       "3  'RT @chelscanlan: At Nitro Circus at #AlbertPa...  \n",
       "4  '@cricketfox Always a good thing. Thanks for t...  "
      ]
     },
     "execution_count": 5,
     "metadata": {},
     "output_type": "execute_result"
    }
   ],
   "source": [
    "ORIGINAL_TRAINING_DATA.head()"
   ]
  },
  {
   "cell_type": "markdown",
   "metadata": {},
   "source": [
    "- #### Testing data"
   ]
  },
  {
   "cell_type": "code",
   "execution_count": 6,
   "metadata": {},
   "outputs": [
    {
     "data": {
      "text/html": [
       "<div>\n",
       "<style scoped>\n",
       "    .dataframe tbody tr th:only-of-type {\n",
       "        vertical-align: middle;\n",
       "    }\n",
       "\n",
       "    .dataframe tbody tr th {\n",
       "        vertical-align: top;\n",
       "    }\n",
       "\n",
       "    .dataframe thead th {\n",
       "        text-align: right;\n",
       "    }\n",
       "</style>\n",
       "<table border=\"1\" class=\"dataframe\">\n",
       "  <thead>\n",
       "    <tr style=\"text-align: right;\">\n",
       "      <th></th>\n",
       "      <th>TweetId</th>\n",
       "      <th>TweetText</th>\n",
       "    </tr>\n",
       "  </thead>\n",
       "  <tbody>\n",
       "    <tr>\n",
       "      <td>0</td>\n",
       "      <td>306486520121012224</td>\n",
       "      <td>'28. The home side threaten again through Maso...</td>\n",
       "    </tr>\n",
       "    <tr>\n",
       "      <td>1</td>\n",
       "      <td>286353402605228032</td>\n",
       "      <td>'@mrbrown @aulia Thx for asking. See http://t....</td>\n",
       "    </tr>\n",
       "    <tr>\n",
       "      <td>2</td>\n",
       "      <td>289531046037438464</td>\n",
       "      <td>'@Sochi2014 construction along the shores of t...</td>\n",
       "    </tr>\n",
       "    <tr>\n",
       "      <td>3</td>\n",
       "      <td>306451661403062273</td>\n",
       "      <td>'#SecKerry\\u2019s remarks after meeting with F...</td>\n",
       "    </tr>\n",
       "    <tr>\n",
       "      <td>4</td>\n",
       "      <td>297941800658812928</td>\n",
       "      <td>'The #IPLauction has begun. Ricky Ponting is t...</td>\n",
       "    </tr>\n",
       "  </tbody>\n",
       "</table>\n",
       "</div>"
      ],
      "text/plain": [
       "              TweetId                                          TweetText\n",
       "0  306486520121012224  '28. The home side threaten again through Maso...\n",
       "1  286353402605228032  '@mrbrown @aulia Thx for asking. See http://t....\n",
       "2  289531046037438464  '@Sochi2014 construction along the shores of t...\n",
       "3  306451661403062273  '#SecKerry\\u2019s remarks after meeting with F...\n",
       "4  297941800658812928  'The #IPLauction has begun. Ricky Ponting is t..."
      ]
     },
     "execution_count": 6,
     "metadata": {},
     "output_type": "execute_result"
    }
   ],
   "source": [
    "ORIGINAL_TESTING_DATA.head()"
   ]
  },
  {
   "cell_type": "markdown",
   "metadata": {},
   "source": [
    "## Handle missing values"
   ]
  },
  {
   "cell_type": "markdown",
   "metadata": {},
   "source": [
    "#### Training dataset\n",
    "No missing values"
   ]
  },
  {
   "cell_type": "code",
   "execution_count": 6,
   "metadata": {},
   "outputs": [
    {
     "data": {
      "image/png": "[encoded data removed]",
      "text/plain": [
       "<Figure size 432x288 with 2 Axes>"
      ]
     },
     "metadata": {
      "needs_background": "light"
     },
     "output_type": "display_data"
    }
   ],
   "source": [
    "missv = ORIGINAL_TRAINING_DATA.isna()\n",
    "sns.heatmap(missv, cmap='magma');plt.title('Missing values: training dataset');plt.show()"
   ]
  },
  {
   "cell_type": "markdown",
   "metadata": {},
   "source": [
    "#### Testing dataset\n",
    "No missing values"
   ]
  },
  {
   "cell_type": "code",
   "execution_count": 7,
   "metadata": {},
   "outputs": [
    {
     "data": {
      "image/png": "[encoded data removed]",
      "text/plain": [
       "<Figure size 432x288 with 2 Axes>"
      ]
     },
     "metadata": {
      "needs_background": "light"
     },
     "output_type": "display_data"
    }
   ],
   "source": [
    "missv = ORIGINAL_TESTING_DATA.isna()\n",
    "sns.heatmap(missv, cmap='magma');plt.title('Missing values: testing dataset');plt.show()"
   ]
  },
  {
   "cell_type": "markdown",
   "metadata": {},
   "source": [
    "## Handle duplicates\n",
    "15 tweets are duplicated"
   ]
  },
  {
   "cell_type": "markdown",
   "metadata": {},
   "source": [
    "#### Original data records\n",
    "6525 rows with 6525 tweets"
   ]
  },
  {
   "cell_type": "code",
   "execution_count": 6,
   "metadata": {},
   "outputs": [
    {
     "data": {
      "text/plain": [
       "6525"
      ]
     },
     "execution_count": 6,
     "metadata": {},
     "output_type": "execute_result"
    }
   ],
   "source": [
    "ORIGINAL_TRAINING_DATA.shape[0]"
   ]
  },
  {
   "cell_type": "markdown",
   "metadata": {},
   "source": [
    "#### Duplicated records\n",
    "6508 rows with 6508 unique tweets"
   ]
  },
  {
   "cell_type": "code",
   "execution_count": 7,
   "metadata": {},
   "outputs": [
    {
     "data": {
      "text/plain": [
       "17"
      ]
     },
     "execution_count": 7,
     "metadata": {},
     "output_type": "execute_result"
    }
   ],
   "source": [
    "ORIGINAL_TRAINING_DATA.shape[0] - ORIGINAL_TRAINING_DATA.TweetText.unique().shape[0]"
   ]
  },
  {
   "cell_type": "markdown",
   "metadata": {},
   "source": [
    "#### Duplicated tweets\n",
    "There are 15 duplicated tweets "
   ]
  },
  {
   "cell_type": "code",
   "execution_count": 10,
   "metadata": {},
   "outputs": [],
   "source": [
    "def get_all_duplicated_tweets():\n",
    "    tweets = []\n",
    "    duplicated_tweets = {}\n",
    "    for i, tweet in enumerate(ORIGINAL_TRAINING_DATA.TweetText): #\n",
    "        if tweet in tweets:\n",
    "            try:\n",
    "                duplicated_tweets[tweet] += 1\n",
    "            except:\n",
    "                duplicated_tweets[tweet] = 2\n",
    "        else: tweets.append(tweet)\n",
    "    \n",
    "    return duplicated_tweets\n",
    "\n",
    "def show_duplicated_tweets():\n",
    "    duplicated_tweets = get_all_duplicated_tweets()\n",
    "    for i, (key, value) in enumerate(duplicated_tweets.items()):\n",
    "        print(f\"{i} ({value} times): {key[:100]}...\")"
   ]
  },
  {
   "cell_type": "code",
   "execution_count": 11,
   "metadata": {},
   "outputs": [
    {
     "name": "stdout",
     "output_type": "stream",
     "text": [
      "0 (2 times): 'Daily tickets for the Aegon International are on sale now! Get yours at: http://t.co/K6yDYuHO or by...\n",
      "1 (2 times): 'RT @MazdaAus: Our great @ausgrandprix competition closes this Wednesday! For details click http://t...\n",
      "2 (2 times): '2 mins added time. #CFC'...\n",
      "3 (2 times): 'WATCH LIVE: Midweek Final Score brings you all the #bbcfootball action on BBC Red Button &amp; via ...\n",
      "4 (3 times): 'RT @HouseofCommons: Prime Minister\\u2019s Questions is coming up at midday. You can follow proceedi...\n",
      "5 (3 times): 'Coaches: Check out the latest content from the High Performance Centres Coach Workshops: http://t.c...\n",
      "6 (2 times): 'Buy your #AusGP general admission tickets before March 1 for early bird prices. #F1 #cantwaitforaus...\n",
      "7 (2 times): 'Who is your BBL|02 MVP? http://t.co/ADle5YGo #BBL02'...\n",
      "8 (2 times): '.@WhiteHouse Fact Sheet: Advancing Rights of #LGBT People Globally: http://t.co/dIpeJpOtFr @State_D...\n",
      "9 (2 times): Here's an interactive route map of the BCIM Car Rally, Kolkata to Kunming, #China. 4 Countries, 3000...\n",
      "10 (2 times): France drove the Islamist and Tuareg militants out of Mali's cities, but they've got plenty of place...\n",
      "11 (2 times): 'Featured in our new issue: @KRuddMP, @husainhaqqani, @latintelligence, @alufbenn. Full TOC here: ht...\n",
      "12 (2 times): 'FA Focus: @SarahatCivic discusses how America can better protect and compensate civilians in war. h...\n",
      "13 (2 times): 'Book of the Day: Trying to predict whether Britain will leave the EU? Start with the history of how...\n",
      "14 (2 times): Next up in our series of the world's fastest growing economies: South Sudan, which may grow by 70% i...\n"
     ]
    }
   ],
   "source": [
    "show_duplicated_tweets()"
   ]
  },
  {
   "cell_type": "markdown",
   "metadata": {},
   "source": [
    "## Correct Data (Trim apostrophes TweetText)"
   ]
  },
  {
   "cell_type": "code",
   "execution_count": 7,
   "metadata": {},
   "outputs": [],
   "source": [
    "TRAINING_DATA = ORIGINAL_TRAINING_DATA.copy()\n",
    "TESTING_DATA = ORIGINAL_TESTING_DATA.copy()"
   ]
  },
  {
   "cell_type": "code",
   "execution_count": 13,
   "metadata": {},
   "outputs": [],
   "source": [
    "def trim_apostrophes(tweet):\n",
    "    return tweet.strip(\"'\")\n",
    "\n",
    "TRAINING_DATA.TweetText = list(map(trim_apostrophes, list(TRAINING_DATA.TweetText)))\n",
    "TESTING_DATA.TweetText = list(map(trim_apostrophes, list(TESTING_DATA.TweetText)))"
   ]
  },
  {
   "cell_type": "markdown",
   "metadata": {},
   "source": [
    "## Calculate Target Variable percentages in training dataset\n",
    "Politics : 49.04%\\\n",
    "Sports : 50.94%"
   ]
  },
  {
   "cell_type": "code",
   "execution_count": 14,
   "metadata": {},
   "outputs": [
    {
     "data": {
      "text/plain": [
       "array([<matplotlib.axes._subplots.AxesSubplot object at 0x00000267CD199408>],\n",
       "      dtype=object)"
      ]
     },
     "execution_count": 14,
     "metadata": {},
     "output_type": "execute_result"
    },
    {
     "data": {
      "image/png": "[encoded data removed]",
      "text/plain": [
       "<Figure size 288x288 with 1 Axes>"
      ]
     },
     "metadata": {},
     "output_type": "display_data"
    }
   ],
   "source": [
    "label_per = TRAINING_DATA['Label'].value_counts()/TRAINING_DATA.shape[0] *100\n",
    "label_df = pd.DataFrame(list(label_per), index=['Sports', 'Politcs'], columns=['Pie'])\n",
    "label_df.plot(kind='pie',subplots=True, figsize=(4, 4),autopct='%1.3f%%')"
   ]
  },
  {
   "cell_type": "markdown",
   "metadata": {},
   "source": [
    "## Data Analysis"
   ]
  },
  {
   "cell_type": "markdown",
   "metadata": {},
   "source": [
    "#### Customize Data - Extract substrings with regular expressions (Mentions, hashtags, links, etc.)"
   ]
  },
  {
   "cell_type": "code",
   "execution_count": 15,
   "metadata": {},
   "outputs": [],
   "source": [
    "def isRetweeted(tweet):\n",
    "    if tweet[:2] == 'RT': return 1\n",
    "    return 0\n",
    "\n",
    "def retweeted2(tweet):\n",
    "    if tweet[:2] == 'RT':\n",
    "        return re.findall('(?<=RT\\s)(@[A-Za-z]+[A-Za-z0-9-_]+)', tweet)\n",
    "    return []\n",
    "\n",
    "def get_mentions(tweet):\n",
    "    return re.findall('(?<!RT\\s)(@[A-Za-z]+[A-Za-z0-9-_]+)', tweet)\n",
    "\n",
    "def get_hashtags(tweet):\n",
    "    return re.findall('(#[A-Za-z]+[A-Za-z0-9-_]+)', tweet)\n",
    "\n",
    "def get_links(tweet):\n",
    "    return re.findall('(https?://\\S+)', tweet)\n",
    "\n",
    "def customize_data(original_data):\n",
    "    \n",
    "    customized_training_data = original_data.copy()\n",
    "    \n",
    "    new_columns_var_func = {\"isRetweeted\":isRetweeted,\"RetweetedTo\":retweeted2, \"Mentioned\":get_mentions, \"Hashtags\":get_hashtags, \"Links\":get_links}\n",
    "    \n",
    "    for var, func in new_columns_var_func.items():\n",
    "        customized_training_data[var] = customized_training_data.TweetText.apply(func)\n",
    "        \n",
    "    return customized_training_data"
   ]
  },
  {
   "cell_type": "code",
   "execution_count": 16,
   "metadata": {},
   "outputs": [],
   "source": [
    "TRAINING_DATA = customize_data(TRAINING_DATA)\n",
    "TESTING_DATA = customize_data(TESTING_DATA)"
   ]
  },
  {
   "cell_type": "markdown",
   "metadata": {},
   "source": [
    "#### Analize extracted substrings in training dataset"
   ]
  },
  {
   "cell_type": "code",
   "execution_count": 17,
   "metadata": {},
   "outputs": [],
   "source": [
    "def get_all_values(data:str='train', column=None):\n",
    "    \n",
    "    if not column:\n",
    "        raise TypeError('You must specify a columns to analize')\n",
    "    \n",
    "    if data == 'train': list_dataframe = TRAINING_DATA.loc[TRAINING_DATA[column].apply(lambda x: x != []), [column]]\n",
    "    elif data == 'test': list_dataframe = TESTING_DATA.loc[TESTING_DATA[column].apply(lambda x: x != []), [column]]\n",
    "\n",
    "    column_dataframe = pd.DataFrame([value\n",
    "                                     for list_value in list_dataframe[column]\n",
    "                                     for value in list_value\n",
    "                                    ], columns=[column])\n",
    "    \n",
    "    counts_dataframe = column_dataframe.groupby(column)\\\n",
    "                        .size().reset_index(name='Appearance Time')\\\n",
    "                        .sort_values('Appearance Time', ascending=False)\\\n",
    "                        .reset_index(drop=True)\n",
    "    \n",
    "    return counts_dataframe\n",
    "\n",
    "def show_popular(column=None, n=10):\n",
    "    if n > 100: n = 100\n",
    "    if not column:\n",
    "        raise TypeError('You must specify a columns to analyse')\n",
    "        return\n",
    "    \n",
    "    popular_values = get_all_values(column=column)[:n]\n",
    "    \n",
    "    ax = sns.barplot(data=popular_values, x='Appearance Time', y=column, orient='h')\n",
    "    plt.title(f\"First {n} popular {column}\")\n"
   ]
  },
  {
   "cell_type": "markdown",
   "metadata": {},
   "source": [
    "The most 20 users mentioned in tweets:"
   ]
  },
  {
   "cell_type": "code",
   "execution_count": 18,
   "metadata": {},
   "outputs": [
    {
     "data": {
      "image/png": "[encoded data removed]",
      "text/plain": [
       "<Figure size 432x288 with 1 Axes>"
      ]
     },
     "metadata": {
      "needs_background": "light"
     },
     "output_type": "display_data"
    }
   ],
   "source": [
    "show_popular('Mentioned', 20); plt.show()"
   ]
  },
  {
   "cell_type": "markdown",
   "metadata": {},
   "source": [
    "The most 20 hashtags in tweets:"
   ]
  },
  {
   "cell_type": "code",
   "execution_count": 19,
   "metadata": {},
   "outputs": [
    {
     "data": {
      "image/png": "[encoded data removed]",
      "text/plain": [
       "<Figure size 432x288 with 1 Axes>"
      ]
     },
     "metadata": {
      "needs_background": "light"
     },
     "output_type": "display_data"
    }
   ],
   "source": [
    "show_popular('Hashtags', 20); plt.show()"
   ]
  },
  {
   "cell_type": "markdown",
   "metadata": {},
   "source": [
    "The most 20 users with tweets retweeted:"
   ]
  },
  {
   "cell_type": "code",
   "execution_count": 20,
   "metadata": {},
   "outputs": [
    {
     "data": {
      "image/png": "[encoded data removed]",
      "text/plain": [
       "<Figure size 432x288 with 1 Axes>"
      ]
     },
     "metadata": {
      "needs_background": "light"
     },
     "output_type": "display_data"
    }
   ],
   "source": [
    "show_popular('RetweetedTo', 20); plt.show()"
   ]
  },
  {
   "cell_type": "markdown",
   "metadata": {},
   "source": [
    "## Clean unstructed text data (TweetText)"
   ]
  },
  {
   "cell_type": "code",
   "execution_count": 8,
   "metadata": {},
   "outputs": [],
   "source": [
    "from nltk.tokenize import  RegexpTokenizer\n",
    "from nltk.corpus import stopwords"
   ]
  },
  {
   "cell_type": "markdown",
   "metadata": {},
   "source": [
    "1. #### Replace links with the word \"web_link\""
   ]
  },
  {
   "cell_type": "code",
   "execution_count": 9,
   "metadata": {},
   "outputs": [],
   "source": [
    "def handle_links(tweet):\n",
    "    tweet = re.sub('(http://\\S+)', 'web_link', tweet)\n",
    "    tweet = re.sub('(bit.ly/\\S+)', 'web_link', tweet)\n",
    "    return tweet"
   ]
  },
  {
   "cell_type": "markdown",
   "metadata": {},
   "source": [
    "2. #### Remove mentioned users"
   ]
  },
  {
   "cell_type": "code",
   "execution_count": 10,
   "metadata": {},
   "outputs": [],
   "source": [
    "def handle_mentions(tweet):\n",
    "    tweet = re.sub('(RT\\s@[A-Za-z]+[A-Za-z0-9-_]+)', '', tweet)\n",
    "    tweet = re.sub('(@[A-Za-z]+[A-Za-z0-9-_]+)', '', tweet)\n",
    "    return tweet"
   ]
  },
  {
   "cell_type": "markdown",
   "metadata": {},
   "source": [
    "3. #### Remove punctuations, numbers and double spacing"
   ]
  },
  {
   "cell_type": "code",
   "execution_count": 11,
   "metadata": {},
   "outputs": [],
   "source": [
    "def handle_punctuations_num_2sp(tweet):\n",
    "    punctuations = '!\"$%&\\'()*+,-./:;<=>?[\\\\]^_`{|}~•@'\n",
    "    tweet = re.sub('([' + punctuations + ']+)', ' ', tweet)\n",
    "    tweet = re.sub('([0-9]+)', '', tweet)\n",
    "    tweet = re.sub('(\\s+)', ' ', tweet)\n",
    "    return tweet"
   ]
  },
  {
   "cell_type": "markdown",
   "metadata": {},
   "source": [
    "4. #### Clean TweetText"
   ]
  },
  {
   "cell_type": "code",
   "execution_count": 24,
   "metadata": {
    "scrolled": false
   },
   "outputs": [],
   "source": [
    "try: # Using try block avoids exceptions raised if stopwords is not downloaded yet\n",
    "    stopwords = nltk.corpus.stopwords.words('english')\n",
    "except:\n",
    "    nltk.download('stopwords')\n",
    "    stopwords = nltk.corpus.stopwords.words('english')\n",
    "    \n",
    "word_rooter = nltk.stem.WordNetLemmatizer()\n",
    "\n",
    "def clean_tweet(tweet, bigrams=False):\n",
    "    \n",
    "    tweet = handle_links(tweet)\n",
    "    tweet = handle_mentions(tweet)\n",
    "    tweet = handle_punctuations_num_2sp(tweet)\n",
    "    tweet = tweet.lower()\n",
    "    tweet = tweet.split()\n",
    "    \n",
    "    tweet_words = [word for word in tweet if word not in stopwords]\n",
    "    tweet_words = [word_rooter.lemmatize(word=word) if '#' not in word else word for word in tweet_words]\n",
    "    \n",
    "    if bigrams: \n",
    "        tweet_words = tweet_words + [tweet_words[i] + '_' + tweet_words[i+1] for i in range(len(tweet_words)-1)]\n",
    "        \n",
    "    tweet = ' '.join(tweet_words)\n",
    "    \n",
    "    return tweet"
   ]
  },
  {
   "cell_type": "code",
   "execution_count": 25,
   "metadata": {
    "scrolled": false
   },
   "outputs": [
    {
     "data": {
      "text/plain": [
       "12.035201072692871"
      ]
     },
     "execution_count": 25,
     "metadata": {},
     "output_type": "execute_result"
    }
   ],
   "source": [
    "def func():\n",
    "    TRAINING_DATA['CleanedText'] = TRAINING_DATA.TweetText.apply(clean_tweet)\n",
    "get_execution_time(func)\n",
    "# TESTING_DATA['CleanedText'] = TESTING_DATA.TweetText.apply(clean_tweet)"
   ]
  },
  {
   "cell_type": "code",
   "execution_count": 27,
   "metadata": {},
   "outputs": [
    {
     "data": {
      "text/html": [
       "<div>\n",
       "<style scoped>\n",
       "    .dataframe tbody tr th:only-of-type {\n",
       "        vertical-align: middle;\n",
       "    }\n",
       "\n",
       "    .dataframe tbody tr th {\n",
       "        vertical-align: top;\n",
       "    }\n",
       "\n",
       "    .dataframe thead th {\n",
       "        text-align: right;\n",
       "    }\n",
       "</style>\n",
       "<table border=\"1\" class=\"dataframe\">\n",
       "  <thead>\n",
       "    <tr style=\"text-align: right;\">\n",
       "      <th></th>\n",
       "      <th>TweetId</th>\n",
       "      <th>Label</th>\n",
       "      <th>TweetText</th>\n",
       "      <th>CleanedText</th>\n",
       "    </tr>\n",
       "  </thead>\n",
       "  <tbody>\n",
       "    <tr>\n",
       "      <td>0</td>\n",
       "      <td>304271250237304833</td>\n",
       "      <td>Politics</td>\n",
       "      <td>'#SecKerry: The value of the @StateDept and @U...</td>\n",
       "      <td>#seckerry value measured dollar term deepest a...</td>\n",
       "    </tr>\n",
       "    <tr>\n",
       "      <td>1</td>\n",
       "      <td>304834304222064640</td>\n",
       "      <td>Politics</td>\n",
       "      <td>'@rraina1481 I fear so'</td>\n",
       "      <td>fear</td>\n",
       "    </tr>\n",
       "    <tr>\n",
       "      <td>2</td>\n",
       "      <td>303568995880144898</td>\n",
       "      <td>Sports</td>\n",
       "      <td>'Watch video highlights of the #wwc13 final be...</td>\n",
       "      <td>watch video highlight #wwc final australia wes...</td>\n",
       "    </tr>\n",
       "    <tr>\n",
       "      <td>3</td>\n",
       "      <td>304366580664528896</td>\n",
       "      <td>Sports</td>\n",
       "      <td>'RT @chelscanlan: At Nitro Circus at #AlbertPa...</td>\n",
       "      <td>nitro circus #albertpark #theymakeitlooksoeasy...</td>\n",
       "    </tr>\n",
       "    <tr>\n",
       "      <td>4</td>\n",
       "      <td>296770931098009601</td>\n",
       "      <td>Sports</td>\n",
       "      <td>'@cricketfox Always a good thing. Thanks for t...</td>\n",
       "      <td>always good thing thanks feedback</td>\n",
       "    </tr>\n",
       "    <tr>\n",
       "      <td>...</td>\n",
       "      <td>...</td>\n",
       "      <td>...</td>\n",
       "      <td>...</td>\n",
       "      <td>...</td>\n",
       "    </tr>\n",
       "    <tr>\n",
       "      <td>6520</td>\n",
       "      <td>296675082267410433</td>\n",
       "      <td>Politics</td>\n",
       "      <td>'Photo: PM has laid a wreath at Martyrs Monume...</td>\n",
       "      <td>photo pm laid wreath martyr monument algiers w...</td>\n",
       "    </tr>\n",
       "    <tr>\n",
       "      <td>6521</td>\n",
       "      <td>306677536195231746</td>\n",
       "      <td>Sports</td>\n",
       "      <td>'The secret of the Chennai pitch - crumbling o...</td>\n",
       "      <td>secret chennai pitch crumbling edge solid midd...</td>\n",
       "    </tr>\n",
       "    <tr>\n",
       "      <td>6522</td>\n",
       "      <td>306451295307431937</td>\n",
       "      <td>Sports</td>\n",
       "      <td>@alinabhutto he isn't on Twitter either</td>\n",
       "      <td>twitter either</td>\n",
       "    </tr>\n",
       "    <tr>\n",
       "      <td>6523</td>\n",
       "      <td>306088574221176832</td>\n",
       "      <td>Sports</td>\n",
       "      <td>'Which England player would you take out to di...</td>\n",
       "      <td>england player would take dinner featuring amp...</td>\n",
       "    </tr>\n",
       "    <tr>\n",
       "      <td>6524</td>\n",
       "      <td>277090953242759169</td>\n",
       "      <td>Politics</td>\n",
       "      <td>'Dmitry #Medvedev expressed condolences to the...</td>\n",
       "      <td>dmitry #medvedev expressed condolence family f...</td>\n",
       "    </tr>\n",
       "  </tbody>\n",
       "</table>\n",
       "<p>6525 rows × 4 columns</p>\n",
       "</div>"
      ],
      "text/plain": [
       "                 TweetId     Label  \\\n",
       "0     304271250237304833  Politics   \n",
       "1     304834304222064640  Politics   \n",
       "2     303568995880144898    Sports   \n",
       "3     304366580664528896    Sports   \n",
       "4     296770931098009601    Sports   \n",
       "...                  ...       ...   \n",
       "6520  296675082267410433  Politics   \n",
       "6521  306677536195231746    Sports   \n",
       "6522  306451295307431937    Sports   \n",
       "6523  306088574221176832    Sports   \n",
       "6524  277090953242759169  Politics   \n",
       "\n",
       "                                              TweetText  \\\n",
       "0     '#SecKerry: The value of the @StateDept and @U...   \n",
       "1                               '@rraina1481 I fear so'   \n",
       "2     'Watch video highlights of the #wwc13 final be...   \n",
       "3     'RT @chelscanlan: At Nitro Circus at #AlbertPa...   \n",
       "4     '@cricketfox Always a good thing. Thanks for t...   \n",
       "...                                                 ...   \n",
       "6520  'Photo: PM has laid a wreath at Martyrs Monume...   \n",
       "6521  'The secret of the Chennai pitch - crumbling o...   \n",
       "6522            @alinabhutto he isn't on Twitter either   \n",
       "6523  'Which England player would you take out to di...   \n",
       "6524  'Dmitry #Medvedev expressed condolences to the...   \n",
       "\n",
       "                                            CleanedText  \n",
       "0     #seckerry value measured dollar term deepest a...  \n",
       "1                                                  fear  \n",
       "2     watch video highlight #wwc final australia wes...  \n",
       "3     nitro circus #albertpark #theymakeitlooksoeasy...  \n",
       "4                     always good thing thanks feedback  \n",
       "...                                                 ...  \n",
       "6520  photo pm laid wreath martyr monument algiers w...  \n",
       "6521  secret chennai pitch crumbling edge solid midd...  \n",
       "6522                                     twitter either  \n",
       "6523  england player would take dinner featuring amp...  \n",
       "6524  dmitry #medvedev expressed condolence family f...  \n",
       "\n",
       "[6525 rows x 4 columns]"
      ]
     },
     "execution_count": 27,
     "metadata": {},
     "output_type": "execute_result"
    }
   ],
   "source": [
    "TRAINING_DATA"
   ]
  },
  {
   "cell_type": "markdown",
   "metadata": {},
   "source": [
    "## Vectorize cleaned tweets with scikit-learn CountVectoriser vectorizer"
   ]
  },
  {
   "cell_type": "markdown",
   "metadata": {},
   "source": [
    "NOTE:\n",
    "- All features (words) shared with more than 98% rows (tweets) will be removed: max_df=0.98\\\n",
    "- All features appeared in less than 10 tweets will be removes: min_df=10"
   ]
  },
  {
   "cell_type": "markdown",
   "metadata": {},
   "source": [
    "#### Vectorize training tweets"
   ]
  },
  {
   "cell_type": "code",
   "execution_count": 28,
   "metadata": {
    "scrolled": false
   },
   "outputs": [],
   "source": [
    "training_data_vectorizer = CountVectorizer(max_df=0.98, min_df=1) \n",
    "training_data_transform = training_data_vectorizer.fit_transform(TRAINING_DATA.CleanedText).toarray()\n",
    "training_data_transform_feature_names = training_data_vectorizer.get_feature_names()"
   ]
  },
  {
   "cell_type": "code",
   "execution_count": 32,
   "metadata": {},
   "outputs": [
    {
     "data": {
      "text/plain": [
       "array([[0, 0, 0, ..., 0, 0, 0],\n",
       "       [0, 0, 0, ..., 0, 0, 0],\n",
       "       [0, 0, 0, ..., 0, 0, 0],\n",
       "       ...,\n",
       "       [0, 0, 0, ..., 0, 0, 0],\n",
       "       [0, 0, 0, ..., 0, 0, 0],\n",
       "       [0, 0, 0, ..., 0, 0, 0]], dtype=int64)"
      ]
     },
     "execution_count": 32,
     "metadata": {},
     "output_type": "execute_result"
    }
   ],
   "source": [
    "training_data_transform"
   ]
  },
  {
   "cell_type": "code",
   "execution_count": 28,
   "metadata": {},
   "outputs": [],
   "source": [
    "final_training_data = pd.DataFrame(training_data_transform, columns=training_data_transform_feature_names)\n",
    "final_training_data['isRetweeted'] = TRAINING_DATA.isRetweeted\n",
    "final_training_data['Label'] = TRAINING_DATA.Label\n",
    "#final_training_data.to_csv('../data/corrected_train.csv')"
   ]
  },
  {
   "cell_type": "markdown",
   "metadata": {},
   "source": [
    "#### Vectorize testing tweets"
   ]
  },
  {
   "cell_type": "code",
   "execution_count": 29,
   "metadata": {
    "scrolled": false
   },
   "outputs": [],
   "source": [
    "testing_data_vectorizer = CountVectorizer(max_df=1, min_df=1) \n",
    "testing_data_transform = testing_data_vectorizer.fit_transform(TESTING_DATA.CleanedText).toarray()\n",
    "testing_data_transform_feature_names = testing_data_vectorizer.get_feature_names()"
   ]
  },
  {
   "cell_type": "code",
   "execution_count": 30,
   "metadata": {},
   "outputs": [],
   "source": [
    "final_testing_data = pd.DataFrame(testing_data_transform, columns=testing_data_transform_feature_names)\n",
    "final_testing_data['isRetweeted'] = TESTING_DATA.isRetweeted\n",
    "#final_testing_data.to_csv('../data/corrected_test.csv')"
   ]
  },
  {
   "cell_type": "markdown",
   "metadata": {},
   "source": [
    "## Build the classifier model"
   ]
  },
  {
   "cell_type": "code",
   "execution_count": 31,
   "metadata": {},
   "outputs": [],
   "source": [
    "X = final_training_data.drop(['Label'], axis=1)\n",
    "y = final_training_data.Label\n",
    "\n",
    "X_train, X_test, y_train, y_test = train_test_split(X, y, test_size=0.15, random_state=42)"
   ]
  },
  {
   "cell_type": "code",
   "execution_count": 32,
   "metadata": {},
   "outputs": [
    {
     "name": "stderr",
     "output_type": "stream",
     "text": [
      "C:\\Users\\admin\\Anaconda3\\lib\\site-packages\\sklearn\\discriminant_analysis.py:388: UserWarning: Variables are collinear.\n",
      "  warnings.warn(\"Variables are collinear.\")\n"
     ]
    },
    {
     "data": {
      "text/plain": [
       "Text(0, 0.5, 'Topics')"
      ]
     },
     "execution_count": 32,
     "metadata": {},
     "output_type": "execute_result"
    },
    {
     "data": {
      "image/png": "[encoded data removed]",
      "text/plain": [
       "<Figure size 432x288 with 1 Axes>"
      ]
     },
     "metadata": {
      "needs_background": "light"
     },
     "output_type": "display_data"
    }
   ],
   "source": [
    "fda = LinearDiscriminantAnalysis()\n",
    "\n",
    "fda_object = fda.fit(X_train, y_train)\n",
    "\n",
    "X_fda = fda_object.transform(X_train)\n",
    "\n",
    "plt.scatter(X_fda, y_train)\n",
    "plt.xlabel(\"Discriminant axis\")\n",
    "plt.ylabel(\"Topics\")"
   ]
  },
  {
   "cell_type": "code",
   "execution_count": 33,
   "metadata": {},
   "outputs": [
    {
     "name": "stdout",
     "output_type": "stream",
     "text": [
      "accuracy: 0.5474974463738509\n",
      "mean accuracy: 0.5474974463738509\n"
     ]
    }
   ],
   "source": [
    "pred_y = fda.predict(X_test)\n",
    "accuracy_fda = accuracy_score(y_test, pred_y)\n",
    "print('accuracy:', accuracy_fda)\n",
    "##\n",
    "score = fda.score(X_test, y_test)\n",
    "print('mean accuracy:', score)"
   ]
  },
  {
   "cell_type": "code",
   "execution_count": 34,
   "metadata": {},
   "outputs": [],
   "source": [
    "# cross_validation = LeaveOneOut()\n",
    "\n",
    "# lda = LinearDiscriminantAnalysis()\n",
    "\n",
    "# lda_object = lda.fit(X_train, y_train)\n",
    "\n",
    "# predicted_y_LDA = cross_val_predict(lda_object, X_train, y_train, cv=5, n_jobs=-1)\n",
    "\n",
    "# accuracy_LDA = accuracy_score(y_train, predicted_y_LDA)"
   ]
  }
 ],
 "metadata": {
  "interpreter": {
   "hash": "aad7fa43305c5ed1fb127d263f3083b3588cd5af60f171b45496a79879bf8414"
  },
  "kernelspec": {
   "display_name": "Python 3",
   "language": "python",
   "name": "python3"
  },
  "language_info": {
   "codemirror_mode": {
    "name": "ipython",
    "version": 3
   },
   "file_extension": ".py",
   "mimetype": "text/x-python",
   "name": "python",
   "nbconvert_exporter": "python",
   "pygments_lexer": "ipython3",
   "version": "3.7.4"
  }
 },
 "nbformat": 4,
 "nbformat_minor": 2
}
